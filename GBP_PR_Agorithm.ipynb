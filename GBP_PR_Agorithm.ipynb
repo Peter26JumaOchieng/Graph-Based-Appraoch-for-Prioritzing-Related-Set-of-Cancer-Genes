{
  "nbformat": 4,
  "nbformat_minor": 0,
  "metadata": {
    "colab": {
      "private_outputs": true,
      "provenance": []
    },
    "kernelspec": {
      "name": "python3",
      "display_name": "Python 3"
    },
    "language_info": {
      "name": "python"
    }
  },
  "cells": [
    {
      "cell_type": "code",
      "execution_count": null,
      "metadata": {
        "id": "JzYslmWfd3lw"
      },
      "outputs": [],
      "source": [
        "import datetime\n",
        "import os\n",
        "import sys\n",
        "import configparser\n",
        "import pandas as pd\n",
        "import networkx as nx\n",
        "import operator as op\n",
        "import util\n",
        "import logging\n",
        "import numpy as np\n",
        "import networkx as nx"
      ]
    },
    {
      "cell_type": "markdown",
      "source": [
        "# **Constants**"
      ],
      "metadata": {
        "id": "xgXKb2_gpVhV"
      }
    },
    {
      "cell_type": "code",
      "source": [
        "\n",
        "NONSENSE = \"Nonsense_Mutation\"\n",
        "MISSENSE = \"Missense_Mutation\"\n",
        "SPLICE =\"Splice_Site\"\n",
        "FRAMESHIFT_DEL = \"Frame_Shift_Del\"\n",
        "FRAMESHIFT_INS = \"Frame_Shift_Ins\"\n",
        "INFRAME_DEL = \"In_Frame_Del\"\n",
        "INFRAME_INS = \"In_Frame_Ins\"\n",
        "_3UTR = \"3'UTR\"\n",
        "_5UTR = \"5'UTR\"\n",
        "NONSTOP_MUTATION = \"Nonstop_Mutation\"\n",
        "TRANSLATION_START_SITE = \"Translation_Start_Site\""
      ],
      "metadata": {
        "id": "K4RAweDdd5vM"
      },
      "execution_count": null,
      "outputs": []
    },
    {
      "cell_type": "code",
      "source": [
        "'''\n",
        "Input: Pandas DataFrame with the MAF file information\n",
        "OutPut: Binary Mutation Matrix (BMM), in a pandas DataFrame\n",
        "\n",
        "Binary Mutation matrix format:\n",
        "Rows are patients ((samples) and columns are genes.\n",
        "1: gene is mutated in patient; 0: gene is not mutated in patient.\n",
        "\n",
        "Example:\n",
        "Hugo_Symbol g1  g2  g3  ... gm\n",
        "p1  0   0   1   0\n",
        "p2  1   0   0   1\n",
        "p3  1   0   1   0\n",
        "...\n",
        "pn  1   0   0   0\n",
        "\n",
        "'''"
      ],
      "metadata": {
        "id": "HskFRnV_d-ey"
      },
      "execution_count": null,
      "outputs": []
    },
    {
      "cell_type": "markdown",
      "source": [
        "# **Buliding Binary Mutation Matrix (BMM)**"
      ],
      "metadata": {
        "id": "Z2M7iuohkNax"
      }
    },
    {
      "cell_type": "code",
      "source": [
        "def get_binary_mutation_matrix(maf):\n",
        "    bmm = pd.crosstab(maf.Tumor_Sample_Barcode, maf.Hugo_Symbol).clip(upper=1)\n",
        "    return bmm\n",
        "\n",
        "\n",
        "'''\n",
        "Input: Pandas DataFrame with the MAF file information\n",
        "Output: Weighted Mutation Matrix (WMM), in a pandas DataFrame\n",
        "'''\n",
        "def get_weighted_mutation_matrix(maf, mutation_weights):\n",
        "    patients = list(set(maf.Tumor_Sample_Barcode))\n",
        "    genes = list(set(maf.Hugo_Symbol))\n",
        "    mutation_types = list(set(maf.Variant_Classification))\n",
        "\n",
        "    mutation_weights = {k: v for k, v in mutation_weights.items() if k in mutation_types}\n",
        "\n",
        "    # cross tab to get the number of mutations of each pair gene-patient\n",
        "    mut = pd.crosstab(maf.Hugo_Symbol, [maf.Tumor_Sample_Barcode, maf.Variant_Classification], values=maf.Variant_Classification, aggfunc=len, dropna=False)\n",
        "\n",
        "    wmm = pd.DataFrame(index=patients, columns=genes) # Creating Weighted Mutation Matrix to keep the scores.\n",
        "    wmm = wmm.fillna(0.0) # fill with 0s rather than NaNs\n",
        "\n",
        "    # calcuting the scores for each pait gene-patient: s(p_i, g_j)\n",
        "    for p in patients:\n",
        "        mut[p] = mut[p].fillna(0) # fill with 0s rather NaNs\n",
        "        for g in genes:\n",
        "            mut_dict = mut[p].loc[g].to_dict() # getting dictionary of number of mutations for the pair patient-gene, organized by mutation type\n",
        "\n",
        "            number_of_mutations = sum(mut_dict.values())\n",
        "            sum_product = sum(mut_dict[k] * mutation_weights[k] for k in mut_dict)\n",
        "            score = 0\n",
        "            if number_of_mutations > 0:\n",
        "                score =  round(sum_product / number_of_mutations, 3)\n",
        "            wmm.at[p, g] = score\n",
        "    return wmm"
      ],
      "metadata": {
        "id": "L6iNNy0keCyL"
      },
      "execution_count": null,
      "outputs": []
    },
    {
      "cell_type": "markdown",
      "source": [
        "# **Building Weight Mutation Matrix (WMM)**"
      ],
      "metadata": {
        "id": "DRcbWCzqkoq2"
      }
    },
    {
      "cell_type": "code",
      "source": [
        "'''\n",
        "Input: Binary Mutation Matrix (BMM)\n",
        "Output: An Alteration Matrix, in a dictionary\n",
        "\n",
        "Each row contais patient (sample) in the first columns. The follow columns have the genes which are mutated in the sample.\n",
        "Example:\n",
        "p1  g1  g4  g13\n",
        "p2  g7  g16 g53 g104\n",
        "p3  g10 g12\n",
        "...\n",
        "pn  g1  g3\n",
        "'''"
      ],
      "metadata": {
        "id": "oYvtRJumeMG8"
      },
      "execution_count": null,
      "outputs": []
    },
    {
      "cell_type": "code",
      "source": [
        "def get_alteration_matrix(bmm):\n",
        "    matrix = dict()\n",
        "    sample_list = bmm.index.tolist()\n",
        "    for sample in sample_list:\n",
        "        matrix[sample] = list(bmm.columns.values[bmm.loc[sample] == 1])\n",
        "\n",
        "    return matrix"
      ],
      "metadata": {
        "id": "h80LyWrIeRlp"
      },
      "execution_count": null,
      "outputs": []
    },
    {
      "cell_type": "code",
      "source": [
        "def get_genes_from_bmm(bmm):\n",
        "    return list(bmm)\n",
        "\n",
        "'''\n",
        "Input: Binary Mutation Matrix (BMM) and Weighted Mutation Matrix (WMM)\n",
        "Output: A score for each gene\n",
        "'''\n",
        "def get_score_genes(bmm, wmm):\n",
        "    samples = bmm.index.tolist()\n",
        "    genes = list(bmm)\n",
        "    gene_scores = dict()\n",
        "\n",
        "    score_max = 0\n",
        "    coeff = 0\n",
        "    for g in genes:\n",
        "        score = round(wmm[g].sum() / len(samples), 3) # getting the 'weighted frequence' of the scores in the gene\n",
        "        gene_scores[g] = score\n",
        "        if score > score_max: # keeping the biggest score\n",
        "            score_max = score\n",
        "\n",
        "    # putting scores between 0 and 1\n",
        "    for g in gene_scores:\n",
        "        gene_scores[g] = round(gene_scores[g] / score_max, 3)\n",
        "\n",
        "    return gene_scores"
      ],
      "metadata": {
        "id": "PYGhrt80eo9S"
      },
      "execution_count": null,
      "outputs": []
    },
    {
      "cell_type": "markdown",
      "source": [
        "# **Network Inputs**"
      ],
      "metadata": {
        "id": "bUBXRzssk0PV"
      }
    },
    {
      "cell_type": "code",
      "source": [
        "Input: the gene network file (reading using rb)\n",
        "Output: a networkX graph\n",
        "'''\n",
        "def read_gene_network_nx(gene_network_file):\n",
        "    mx = nx.read_edgelist(gene_network_file, delimiter='\\t')\n",
        "    return mx\n",
        "\n",
        "'''\"\"\"\n",
        "Input: a gene network (networkX), a threshold and a a list of genes considered in the analisys\n",
        "Output: a Gene Strength Spreading Network (GSSN) and the biggest weight considering all the edges\n",
        "'''\"\"\n",
        "from itertools import filterfalse\n",
        "def create_gene_strength_spreading_network(gene_network_nx):\n",
        "    gssn = nx.DiGraph()\n",
        "    gene_network_nx.remove_edges_from(nx.selfloop_edges(gene_network_nx))\n",
        "    import random\n",
        "    gene_network_nx.edges = random.sample(gene_network_nx.edges, k=min(50000, len(gene_network_nx.edges)))\n",
        "    max_weight = 0\n",
        "    for g_i, g_j in gene_network_nx.edges:\n",
        "        neighbors_i = dict(gene_network_nx[g_i])\n",
        "        neighbors_j = dict(gene_network_nx[g_j])\n",
        "\n",
        "        neighbors_j_out = {k:v for k,v in neighbors_j.items() if k not in neighbors_i}\n",
        "        neighbors_j_out.pop(g_i, None)\n",
        "        r_i = sum([neighbors_i[g][\"weight\"] for g in neighbors_i])\n",
        "        r_j_out = sum([neighbors_j_out[g][\"weight\"] for g in neighbors_j_out])\n",
        "\n",
        "\n",
        "        neighbors_i_out = {k:v for k,v in neighbors_i.items() if k not in neighbors_j}\n",
        "        neighbors_i_out.pop(g_j, None)\n",
        "        r_j = sum([neighbors_j[g][\"weight\"] for g in neighbors_j])\n",
        "        r_i_out = sum([neighbors_i_out[g][\"weight\"] for g in neighbors_i_out])\n",
        "\n",
        "        weight_ij = gene_network_nx[g_i][g_j][\"weight\"]\n",
        "        s_ij = (1 + (r_i * r_j_out)) * weight_ij\n",
        "        s_ji = (1 + (r_j * r_i_out)) * weight_ij\n",
        "\n",
        "        gssn.add_edge(g_i, g_j, weight=s_ij)\n",
        "        gssn.add_edge(g_j, g_i, weight=s_ji)\n",
        "\n",
        "        if max(s_ij, s_ji) > max_weight:\n",
        "            max_weight = max(s_ij, s_ji)\n",
        "    return gssn, max_weight\n"
      ],
      "metadata": {
        "id": "OB18qXCbezJ_"
      },
      "execution_count": null,
      "outputs": []
    },
    {
      "cell_type": "markdown",
      "source": [
        "# **Building Consensus Gene Network**"
      ],
      "metadata": {
        "id": "qwdb7BFCmNcJ"
      }
    },
    {
      "cell_type": "code",
      "source": [
        "def combine_gene_network(gene_network_nx_list):\n",
        "    consensus_gene_network = nx.Graph()\n",
        "\n",
        "    max_weight = 1\n",
        "    for gene_network in gene_network_nx_list:\n",
        "        for g_i, g_j in gene_network.edges:\n",
        "            if not consensus_gene_network.has_edge(g_i, g_j):\n",
        "                consensus_gene_network.add_edge(g_i, g_j, weight=1)\n",
        "            else:\n",
        "                consensus_gene_network[g_i][g_j][\"weight\"] += 1\n",
        "                if consensus_gene_network[g_i][g_j][\"weight\"] > max_weight:\n",
        "                    max_weight = consensus_gene_network[g_i][g_j][\"weight\"]\n",
        "\n",
        "    for g_i, g_j in consensus_gene_network.edges:\n",
        "        consensus_gene_network[g_i][g_j][\"weight\"] /= max_weight\n",
        "\n",
        "    return consensus_gene_network"
      ],
      "metadata": {
        "id": "DZkRFeuse9BG"
      },
      "execution_count": null,
      "outputs": []
    },
    {
      "cell_type": "markdown",
      "source": [
        "# **Gene Spreading Stregth and Neighbor Mutation Influence**"
      ],
      "metadata": {
        "id": "kmxWsoi3m60a"
      }
    },
    {
      "cell_type": "code",
      "source": [
        "'''\n",
        "Input: gene scores, a directed and weighted gene network (networkX), the biggest weight considering all the edges of network\n",
        "Output: a Gene Strength Spreading Network (GSSN) and the biggest weight considering all the edges\n",
        "'''\n",
        "def get_score_genes_neighbors(gene_scores, gssn, max_weight, consensus_gene_network):\n",
        "    gene_scores_from_neighbors = {}\n",
        "\n",
        "    genes_out = list(set(gssn) - set(gene_scores)) # genes of gssn not in gene_scores\n",
        "    for g in genes_out:\n",
        "        gene_scores[g] = 0\n",
        "    max_score_neighbors = 0\n",
        "    for g_i in gene_scores:\n",
        "        score_from_neighbors = 0\n",
        "        if gssn.has_node(g_i):\n",
        "            g_neighbors = gssn.neighbors(g_i)\n",
        "            for g_j in g_neighbors:\n",
        "                w_ji = round(gssn[g_j][g_i][\"weight\"] / max_weight, 3)\n",
        "                score_from_neighbors = score_from_neighbors + (gene_scores[g_j] * w_ji)\n",
        "            if score_from_neighbors > max_score_neighbors:\n",
        "                max_score_neighbors = score_from_neighbors\n",
        "        gene_scores_from_neighbors[g_i] = round(score_from_neighbors, 3)\n",
        "    for g_i in gene_scores_from_neighbors:\n",
        "        gene_scores_from_neighbors[g_i] = round(gene_scores_from_neighbors[g_i] / max_score_neighbors, 3)\n",
        "    return gene_scores_from_neighbors"
      ],
      "metadata": {
        "id": "jzzqZV_efDuO"
      },
      "execution_count": null,
      "outputs": []
    },
    {
      "cell_type": "markdown",
      "source": [
        "# **Gene Mutations Score**"
      ],
      "metadata": {
        "id": "qY0pM0tcmsw2"
      }
    },
    {
      "cell_type": "code",
      "source": [
        "def get_gene_scores(gene_scores_mutations, gene_scores_neighbors):\n",
        "    gene_scores = {}\n",
        "\n",
        "    for g in gene_scores_neighbors:\n",
        "        scores = []\n",
        "        scores.append(gene_scores_mutations[g])\n",
        "        scores.append(gene_scores_neighbors[g])\n",
        "        scores.append(gene_scores_mutations[g] + gene_scores_neighbors[g])\n",
        "        gene_scores[g] = scores\n",
        "    return gene_scores"
      ],
      "metadata": {
        "id": "hOxJPk39fLpx"
      },
      "execution_count": null,
      "outputs": []
    },
    {
      "cell_type": "code",
      "source": [
        "def main():\n",
        "    input_parameters_file = sys.argv[1]\n",
        "    print(input_parameters_file)\n",
        "    cp = configparser.ConfigParser()\n",
        "    cp.read(input_parameters_file)\n",
        "\n",
        "    cp_input_type = cp[\"INPUT_TYPE\"]\n",
        "    input_type = int(cp_input_type[\"TYPE\"])\n",
        "\n",
        "    cp_input = cp[\"INPUT\"]\n",
        "\n",
        "    if input_type == 1:\n",
        "        input_maf_file_name = cp_input[\"MAF_FILE_NAME\"]\n",
        "    elif input_type == 2:\n",
        "        input_bmm_file_name = cp_input[\"BMM_FILE_NAME\"]\n",
        "        input_wmm_file_name = cp_input[\"WMM_FILE_NAME\"]\n",
        "    input_gene_network_files_name = cp_input[\"GENE_NETWORK_FILE_NAME\"].split(\" \")\n",
        "\n",
        "    cp_mutation_weights = cp[\"VARIANT_CLASSIFICATION_WEIGHTS\"]\n",
        "    mutation_weights = {}\n",
        "    mutation_weights[\"Nonsense_Mutation\"] = float(cp_mutation_weights[\"NONSENSE\"])\n",
        "    mutation_weights[\"Missense_Mutation\"] = float(cp_mutation_weights[\"MISSENSE\"])\n",
        "    mutation_weights[\"Splice_Site\"] = float(cp_mutation_weights[\"SPLICE\"])\n",
        "    mutation_weights[\"Frame_Shift_Del\"] = float(cp_mutation_weights[\"FRAMESHIFT_DEL\"])\n",
        "    mutation_weights[\"Frame_Shift_Ins\"] = float(cp_mutation_weights[\"FRAMESHIFT_INS\"])\n",
        "    mutation_weights[\"In_Frame_Del\"] = float(cp_mutation_weights[\"INFRAME_DEL\"])\n",
        "    mutation_weights[\"In_Frame_Ins\"] = float(cp_mutation_weights[\"INFRAME_INS\"])\n",
        "    mutation_weights[\"3'UTR\"] = float(cp_mutation_weights[\"_3UTR\"])\n",
        "    mutation_weights[\"5'UTR\"] = float(cp_mutation_weights[\"_5UTR\"])\n",
        "    mutation_weights[\"Nonstop_Mutation\"] = float(cp_mutation_weights[\"NONSTOP_MUTATION\"])\n",
        "    mutation_weights[\"Translation_Start_Site\"] = float(cp_mutation_weights[\"TRANSLATION_START_SITE\"])\n",
        "\n",
        "    cp_output = cp[\"OUTPUT\"]\n",
        "    output_folder = cp_output[\"OUTPUT_FOLDER\"]\n",
        "    output_file = cp_output[\"OUTPUT_FILE\"]\n",
        "    output_wmm_file_name = output_file + \".wmm\"\n",
        "    output_bmm_file_name = output_file + \".bmm\"\n",
        "    output_am_file_name = output_file + \".am\"\n",
        "    output_gene_mutations_score = output_file + \".mutation.score\"\n",
        "    output_rgn_file_name = output_file + \".sgn\"\n",
        "    output_score_file_name = output_file + \".score\"\n",
        "    output_sample_report_file_name = output_file + \".sample.report\"\n",
        "    output_gene_report_file_name = output_file +  \".gene.report\"\n",
        "    output_network_report_files_name = []\n",
        "    for gene_network_file_name in input_gene_network_files_name:\n",
        "        output_network_report_files_name.append(output_file + '_' + gene_network_file_name + \".network.report\")\n",
        "\n",
        "    if not os.path.exists(output_folder):\n",
        "        os.makedirs(output_folder)\n",
        "\n",
        "    logging.basicConfig(level=logging.INFO, format='%(asctime)s - %(message)s', filename=output_folder + '/' + 'log.txt')\n",
        "    logging.info('******** Starting ********')\n",
        "\n",
        "    if input_type == 1:\n",
        "        maf = pd.read_csv(input_maf_file_name, sep=\"\\t\", comment='#', usecols=[\"Hugo_Symbol\", \"Tumor_Sample_Barcode\", \"Variant_Classification\"])\n",
        "        print(maf.head())\n",
        "        maf=maf.head(int(0.1*(len(maf))))\n",
        "        wmm = get_weighted_mutation_matrix(maf, mutation_weights)\n",
        "        bmm = get_binary_mutation_matrix(maf)\n",
        "        util.create_txt_file_mutation_matrix(wmm, output_folder + \"/\" + output_wmm_file_name)\n",
        "        util.create_txt_file_mutation_matrix(bmm, output_folder + \"/\" + output_bmm_file_name)\n",
        "        am = get_alteration_matrix(bmm)\n",
        "        util.get_sample_report(am, output_folder + \"/\" + output_sample_report_file_name)\n",
        "        util.get_gene_report(bmm, output_folder + \"/\" + output_gene_report_file_name)\n",
        "        mutated_genes = get_genes_from_bmm(bmm)\n",
        "        logging.info('Input Type 1 - END matrix generations')\n",
        "\n",
        "        gene_scores_mutations = get_score_genes(bmm, wmm)\n",
        "        util.generate_gene_score_mutation_file(gene_scores_mutations, output_folder + \"/\" + output_gene_mutations_score)\n",
        "        logging.info('END - getting gene_scores_mutations')\n",
        "    elif input_type == 2:\n",
        "        wmm = util.get_mutation_matrix_from_file(input_wmm_file_name)\n",
        "        bmm = util.get_mutation_matrix_from_file(input_bmm_file_name)\n",
        "        am = get_alteration_matrix(bmm)\n",
        "        util.get_sample_report(am, output_folder + \"/\" + output_sample_report_file_name)\n",
        "        util.get_gene_report(bmm, output_folder + \"/\" + output_gene_report_file_name)\n",
        "        mutated_genes = get_genes_from_bmm(bmm)\n",
        "        logging.info('Input Type 2 - END matrix generations')\n",
        "\n",
        "        gene_scores_mutations = get_score_genes(bmm, wmm)\n",
        "        util.generate_gene_score_mutation_file(gene_scores_mutations, output_folder + \"/\" + output_gene_mutations_score)\n",
        "        logging.info('END - getting gene_scores_mutations')\n",
        "    elif input_type == 3:\n",
        "        gene_scores_mutations = util.get_mutation_score_from_file(output_folder + \"/\" + output_gene_mutations_score)\n",
        "        mutated_genes = list(gene_scores_mutations)\n",
        "    logging.info('END - matrix generations')\n",
        "\n",
        "    gene_network_nx_list = []\n",
        "    all_genes = set()\n",
        "\n",
        "    for input_gene_network_file_name in input_gene_network_files_name:\n",
        "        gene_network_file = open(input_gene_network_file_name, 'rb')\n",
        "        gene_network_nx = read_gene_network_nx(gene_network_file)\n",
        "        gene_network_nx_list.append(gene_network_nx)\n",
        "        gene_network_file.close()\n",
        "\n",
        "    consensus_gene_network = combine_gene_network(gene_network_nx_list)\n",
        "\n",
        "    util.get_network_report(consensus_gene_network, output_folder + \"/\" + output_file + \".consensus.network.report\")\n",
        "    print(\"1\")\n",
        "    gssn, max_edge_weight = create_gene_strength_spreading_network(consensus_gene_network)\n",
        "\n",
        "    consensus_gene_score_neighbors = get_score_genes_neighbors(gene_scores_mutations, gssn, max_edge_weight, consensus_gene_network)\n",
        "    logging.info(\"END - \" + input_gene_network_file_name +  \"processing\")\n",
        "\n",
        "\n",
        "    logging.info(\"END - creating Gene Strength Spreading Networks (GSSNs)\")\n",
        "    logging.info(\"END - getting scores from neighbors\")\n",
        "\n",
        "    gene_scores = get_gene_scores(gene_scores_mutations, consensus_gene_score_neighbors)\n",
        "\n",
        "    sorted_gene_scores = sorted(gene_scores.items(), key=lambda kv: kv[1][2], reverse=True)\n",
        "\n",
        "    logging.info('END - sorting results')\n",
        "\n",
        "    score_file = open(output_folder + \"/\" + output_score_file_name + \".mutatedGenes\", \"w\")\n",
        "    score_file.write(\"gene\\tmutation_score\\tscore_from_neighbors\\tfinal_score\\n\")\n",
        "    \"\"\"\"\n",
        "    for g, scores in sorted_gene_scores:\n",
        "        if g in mutated_genes:\n",
        "            score_file.write(\"{}\\t{:.3f}\\t{:.3f}\\t{:.3f}\\n\".format(g, scores[0], scores[1], scores[2]))\n",
        "            #print(\"3\")\n",
        "    score_file.close()\n",
        "    \"\"\"\n",
        "main()"
      ],
      "metadata": {
        "id": "b5He2u5HfZSW"
      },
      "execution_count": null,
      "outputs": []
    },
    {
      "cell_type": "markdown",
      "source": [
        "# **Graph Based Prioritization with PageRank with Individualized Damping Factor (GBP-PR)**"
      ],
      "metadata": {
        "id": "42MHr9EFnO-3"
      }
    },
    {
      "cell_type": "code",
      "source": [
        "def page_rank_individualized_damping(consensus_gene_network, mu=0.1, num_iterations=100, alpha=0.85):\n",
        "    num_genes = len(network)\n",
        "\n",
        "    rank = np.ones(num_genes) / num_genes # Initialize variables\n",
        "    lambda_values = np.zeros(num_genes)\n",
        "\n",
        "    for gene in range(num_genes):\n",
        "        ms_gj = np.sum(network[:, gene])  # In-degree of gene j\n",
        "        lambda_values[gene] = ms_gj / (ms_gj + mu)\n",
        "\n",
        "    for iteration in range(num_iterations):  # Perform PageRank with individualized damping factors\n",
        "        new_rank = np.zeros(num_genes)\n",
        "\n",
        "        for gene_i in range(num_genes):\n",
        "            for gene_j in range(num_genes):\n",
        "                if network[gene_i, gene_j] == 1:\n",
        "                    ms_gi = np.sum(network[:, gene_i])  # In-degree of gene i\n",
        "                    new_rank[gene_j] += (1 - lambda_values[gene_j]) * rank[gene_i]\n",
        "                    new_rank[gene_j] += lambda_values[gene_j] * (rank[gene_i] / ms_gi)\n",
        "\n",
        "        new_rank = (1 - alpha) + alpha * new_rank # Apply the damping factor\n",
        "\n",
        "        new_rank /= sum(new_rank) # Normalize the rank to sum to 1\n",
        "\n",
        "    if np.allclose(new_rank, rank, atol=1e-6): # Check for convergence\n",
        "\n",
        "\n",
        "        rank = new_rank\n",
        "\n",
        "    return rank\n",
        "\n",
        "\n",
        "gene_network_nx_list = []\n",
        "all_genes = set()\n",
        "\n",
        "\"\"\"\n",
        "for input_gene_network_file_name in input_gene_network_files_name:\n",
        "        gene_network_file = open(input_gene_network_file_name, 'rb')\n",
        "        gene_network_nx = read_gene_network_nx(gene_network_file)\n",
        "        gene_network_nx_list.append(gene_network_nx)\n",
        "        gene_network_file.close()\n",
        " \"\"\"\n",
        " onsensus_gene_network = gene_network(gene_network_nx_list)\n",
        "\n",
        "    # Replace this with your mu value (individualized damping factor)\n",
        "mu_value = 0.1\n",
        "ranks = page_rank_individualized_damping(consensus_gene_network, mu=mu_value)\n",
        "\n",
        "\n",
        "ranked_genes = np.argsort(ranks)[::-1]\n",
        "print(\"Ranked genes:\", ranked_genes)"
      ],
      "metadata": {
        "id": "RINWms-tod_o"
      },
      "execution_count": null,
      "outputs": []
    },
    {
      "cell_type": "markdown",
      "source": [
        "# **Graph Based Prioritization with Standard PageRank**"
      ],
      "metadata": {
        "id": "GlaaZI5-nsEk"
      }
    },
    {
      "cell_type": "code",
      "source": [
        "def pageRank(consensus_gene_network, damping_factor=0.85, max_iterations=100, epsilon=1e-6):\n",
        "    num_nodes = len(consensus_gene_network)\n",
        "    initial_score = np.ones(num_nodes) / num_nodes  # Initialize scores equally for all nodes\n",
        "    transition_matrix = build_transition_matrix(consensus_gene_network, num_nodes, damping_factor)\n",
        "\n",
        "    # Iterate to calculate PageRank scores\n",
        "    prev_scores = np.copy(initial_score)\n",
        "    for _ in range(max_iterations):\n",
        "        new_scores = (1 - damping_factor) / num_nodes + damping_factor * np.dot(transition_matrix, prev_scores)\n",
        "\n",
        "        # Check for convergence\n",
        "        if np.linalg.norm(new_scores - prev_scores, 2) < epsilon:\n",
        "            return new_scores\n",
        "\n",
        "        prev_scores = new_scores\n",
        "\n",
        "    return prev_scores\n",
        "\n",
        "def build_transition_matrix(consensus_gene_network, num_nodes, damping_factor):\n",
        "    transition_matrix = np.zeros((num_nodes, num_nodes))\n",
        "\n",
        "    for i in range(num_nodes):\n",
        "        num_outlinks = sum(consensus_gene_network[i])\n",
        "        if num_outlinks == 0:\n",
        "            # Handle nodes with no outlinks by assuming equal probability to all nodes\n",
        "            transition_matrix[i] = np.ones(num_nodes) / num_nodes\n",
        "        else:\n",
        "            for j in range(num_nodes):\n",
        "                transition_matrix[i, j] = damping_factor * (consensus_gene_network[j, i] / num_outlinks)\n",
        "                transition_matrix[i, j] += (1 - damping_factor) / num_nodes\n",
        "\n",
        "    return transition_matrix\n",
        "\"\"\"\n",
        "def combine_gene_network(gene_network_nx_list):\n",
        "    consensus_gene_network = nx.Graph()\n",
        "\n",
        "    max_weight = 1\n",
        "    for gene_network in gene_network_nx_list:\n",
        "        for g_i, g_j in gene_network.edges:\n",
        "            if not consensus_gene_network.has_edge(g_i, g_j):\n",
        "                consensus_gene_network.add_edge(g_i, g_j, weight=1)\n",
        "            else:\n",
        "                consensus_gene_network[g_i][g_j][\"weight\"] += 1\n",
        "                if consensus_gene_network[g_i][g_j][\"weight\"] > max_weight:\n",
        "                    max_weight = consensus_gene_network[g_i][g_j][\"weight\"]\n",
        "\n",
        "    for g_i, g_j in consensus_gene_network.edges:\n",
        "        consensus_gene_network[g_i][g_j][\"weight\"] /= max_weight\n",
        "\n",
        "    return consensus_gene_network\n",
        "\"\"\"\n",
        "\n",
        "consensus_gene_network = combine_gene_network(gene_network_nx_list)\n",
        "# Run PageRank on the gene network\n",
        "scores = pageRank(consensus_gene_network)\n",
        "\n",
        "# Display the PageRank scores for each gene\n",
        "for i, score in enumerate(scores):\n",
        "    print(f\"Gene {i + 1}: PageRank Score = {score:.4f}\")\n"
      ],
      "metadata": {
        "id": "roryPPGwZ-8i"
      },
      "execution_count": null,
      "outputs": []
    },
    {
      "cell_type": "code",
      "source": [
        "def personalized_pagerank(consensus_gene_network, gene_factors, mu, num_iterations=100, alpha=0.85):\n",
        "    num_genes = len(network)\n",
        "\n",
        "    # Initialize PageRank scores\n",
        "    pagerank = np.ones(num_genes) / num_genes\n",
        "\n",
        "    for iteration in range(num_iterations):\n",
        "        new_pagerank = np.zeros(num_genes)\n",
        "\n",
        "        for j in range(num_genes):\n",
        "            lambda_j = gene_factors[j] / (gene_factors[j] + mu)\n",
        "\n",
        "            # Calculate the personalized PageRank for gene j\n",
        "            new_pagerank[j] = (1 - lambda_j) * alpha + lambda_j * sum(\n",
        "                pagerank[i] / np.sum(network[i]) for i in range(num_genes) if network[i][j] == 1\n",
        "            )\n",
        "\n",
        "        # Normalize the PageRank scores\n",
        "        new_pagerank /= np.sum(new_pagerank)\n",
        "\n",
        "        # Check for convergence\n",
        "        if np.allclose(new_pagerank, pagerank, atol=1e-6):\n",
        "            break\n",
        "\n",
        "        pagerank = new_pagerank\n",
        "\n",
        "    return pagerank\n",
        "\n",
        "    # Replace this with your damping factor mu\n",
        "    mu = 0.1\n",
        "    pageranks = personalized_pagerank(consensus_gene_network, gene_factors, mu)\n",
        "\n",
        "    # Print the PageRank scores for each gene\n",
        "    for gene, score in enumerate(pageranks):\n",
        "        print(f\"Gene {gene}: {score}\")\n"
      ],
      "metadata": {
        "id": "SgtoBtXtvjgj"
      },
      "execution_count": null,
      "outputs": []
    },
    {
      "cell_type": "markdown",
      "source": [
        "# **Graph Based Prioritization with Colley (GBP-Colley)**"
      ],
      "metadata": {
        "id": "-v4c0k0in4-_"
      }
    },
    {
      "cell_type": "code",
      "source": [
        "import numpy as np\n",
        "\n",
        "def colley_ranking(adjacency_matrix, consensus_gene_network):\n",
        "    # Number of genes in the network\n",
        "    num_genes = len(adjacency_matrix)\n",
        "\n",
        "    # Create a Colley matrix\n",
        "    colley_matrix = np.zeros((num_genes, num_genes))\n",
        "\n",
        "    # Populate the Colley matrix based on interactions\n",
        "    for i in range(num_genes):\n",
        "        for j in range(num_genes):\n",
        "            if i == j:\n",
        "                colley_matrix[i][j] = 0.5  # Diagonal elements\n",
        "            else:\n",
        "                wins = 0\n",
        "                losses = 0\n",
        "\n",
        "                # Count wins and losses based on interactions\n",
        "                for k in range(num_genes):\n",
        "                    if adjacency_matrix[i][k] == 1 and adjacency_matrix[j][k] == 0:\n",
        "                        wins += 1\n",
        "                    elif adjacency_matrix[i][k] == 0 and adjacency_matrix[j][k] == 1:\n",
        "                        losses += 1\n",
        "\n",
        "                # Update the Colley matrix\n",
        "                colley_matrix[i][j] = 0.5 + wins\n",
        "                colley_matrix[j][i] = 0.5 + losses\n",
        "\n",
        "    # Compute the Colley rankings\n",
        "    colley_rankings = np.dot(np.linalg.inv(colley_matrix), gene_data)\n",
        "\n",
        "    # Sort the genes based on their Colley ranking\n",
        "    ranked_genes = [(gene, ranking) for gene, ranking in enumerate(colley_rankings)]\n",
        "    ranked_genes.sort(key=lambda x: -x[1])  # Sort in descending order\n",
        "\n",
        "    return ranked_genes\n",
        "\n",
        "    print(\"Colley Rankings:\")\n",
        "    for rank, (gene, ranking) in enumerate(ranked_genes, start=1):\n",
        "        print(f\"Rank {rank}: Gene {gene}, Ranking = {ranking}\")\n"
      ],
      "metadata": {
        "id": "793roBYpSPDc"
      },
      "execution_count": null,
      "outputs": []
    },
    {
      "cell_type": "markdown",
      "source": [
        "# **Graph Based Prioritization with massey (GBP-Massey)**"
      ],
      "metadata": {
        "id": "ebzNcAvwoUhb"
      }
    },
    {
      "cell_type": "code",
      "source": [
        "def massey_ranking(data, consensus_gene_network):\n",
        "    # Determine the number of genes\n",
        "    num_genes = len(consensus_gene_network)\n",
        "\n",
        "    # Initialize the Massey matrix and the b vector\n",
        "    massey_matrix = np.zeros((num_genes, num_genes))\n",
        "    b = np.zeros(num_genes)\n",
        "\n",
        "    # Populate the Massey matrix and b vector\n",
        "    for i in range(num_genes):\n",
        "        for j in range(num_genes):\n",
        "            if i != j:\n",
        "                # Count the number of matches and mismatches between gene i and gene j\n",
        "                matches = sum([data[gene_i][gene_j] == 1 for (gene_i, gene_j) in consensus_gene_network])\n",
        "                mismatches = sum([data[gene_i][gene_j] == -1 for (gene_i, gene_j) in consensus_gene_network])\n",
        "\n",
        "                # Update the Massey matrix and b vector\n",
        "                massey_matrix[i][j] = -(matches - mismatches)\n",
        "                massey_matrix[i][i] += matches + mismatches\n",
        "                b[i] += 0.5 * (matches - mismatches)\n",
        "\n",
        "    # Solve the Massey system of equations\n",
        "    massey_ratings = np.linalg.solve(massey_matrix, b)\n",
        "\n",
        "    # Create a list of (gene, rating) tuples\n",
        "    gene_ratings = [(gene, rating) for gene, rating in enumerate(massey_ratings)]\n",
        "\n",
        "    # Sort genes by their ratings in descending order\n",
        "    gene_ratings.sort(key=lambda x: -x[1])\n",
        "\n",
        "    # Return the ranked genes\n",
        "    ranked_genes = [gene for gene, _ in gene_ratings]\n",
        "    return ranked_genes\n",
        "\n",
        "\n",
        "    ranked_genes = massey_ranking(data, consensus_gene_network)\n",
        "\n",
        "    # Print the ranked genes\n",
        "    print(\"Ranked Genes:\", ranked_genes)\n",
        "\n",
        "  \"\"\"\n",
        "  class MasseyRanking:\n",
        "    def __init__(self, gene_interactions):\n",
        "        self.gene_interactions = gene_interactions\n",
        "        self.gene_count = len(gene_interactions)\n",
        "        self.match_results = []\n",
        "\n",
        "    def add_match_result(self, result_vector):\n",
        "        if len(result_vector) == self.gene_count:\n",
        "            self.match_results.append(result_vector)\n",
        "        else:\n",
        "            raise ValueError(\"Result vector length should match the number of genes in the network.\")\n",
        "\n",
        "    def calculate_massey_ratings(self):\n",
        "        wins = [0] * self.gene_count\n",
        "        losses = [0] * self.gene_count\n",
        "\n",
        "        for result in self.match_results:\n",
        "            for i in range(self.gene_count):\n",
        "                for j in range(i + 1, self.gene_count):\n",
        "                    if result[i] > result[j]:\n",
        "                        wins[i] += 1\n",
        "                        losses[j] += 1\n",
        "                    elif result[i] < result[j]:\n",
        "                        wins[j] += 1\n",
        "                        losses[i] += 1\n",
        "\n",
        "        massey_ratings = []\n",
        "        for i in range(self.gene_count):\n",
        "            rating = wins[i] - losses[i]\n",
        "            massey_ratings.append((i, rating))\n",
        "\n",
        "        massey_ratings.sort(key=lambda x: x[1], reverse=True)\n",
        "\n",
        "        return massey_ratings\n",
        "\n",
        "print(f\"{rank}. {gene_interactions[gene_index]}: {rating}\")\n",
        "\"\"\""
      ],
      "metadata": {
        "id": "b-XogGX8hN8Z"
      },
      "execution_count": null,
      "outputs": []
    },
    {
      "cell_type": "markdown",
      "source": [
        "# **Graph Based Prioritization with Keener (GBP-Keener)**"
      ],
      "metadata": {
        "id": "qXD5cjq0oec8"
      }
    },
    {
      "cell_type": "code",
      "source": [
        "import networkx as nx\n",
        "\n",
        "def keener_ranking(consensus_gene_network):\n",
        "    # Create a directed graph to represent the consensus gene interaction network\n",
        "    G = nx.DiGraph(consensus_gene_network)\n",
        "\n",
        "    # Initialize ratings for all genes to 1\n",
        "    ratings = {gene: 1 for gene in G.nodes()}\n",
        "\n",
        "    # Maximum number of iterations for convergence\n",
        "    max_iterations = 1000\n",
        "\n",
        "    # Convergence threshold for ratings\n",
        "    convergence_threshold = 1e-6\n",
        "\n",
        "    # Iteratively update ratings until convergence or maximum iterations reached\n",
        "    for iteration in range(max_iterations):\n",
        "        new_ratings = {}\n",
        "\n",
        "        # Calculate the sum of ratings from neighboring genes for each gene\n",
        "        for gene in G.nodes():\n",
        "            neighbor_ratings_sum = sum(ratings[neighbor] for neighbor in G.predecessors(gene))\n",
        "            new_ratings[gene] = neighbor_ratings_sum\n",
        "\n",
        "        # Normalize the ratings to ensure they sum to 1\n",
        "        total_rating = sum(new_ratings.values())\n",
        "        for gene in new_ratings:\n",
        "            new_ratings[gene] /= total_rating\n",
        "\n",
        "        # Check for convergence\n",
        "        convergence = True\n",
        "        for gene in G.nodes():\n",
        "            if abs(new_ratings[gene] - ratings[gene]) > convergence_threshold:\n",
        "                convergence = False\n",
        "                break\n",
        "\n",
        "        if convergence:\n",
        "            break\n",
        "        else:\n",
        "            ratings = new_ratings\n",
        "\n",
        "    # Sort genes by their final ratings\n",
        "    ranked_genes = sorted(ratings.keys(), key=lambda x: ratings[x], reverse=True)\n",
        "\n",
        "    return ranked_genes\n",
        "\n",
        "consensus_network = nx.DiGraph()\n",
        "\n",
        "# Get the ranked genes using Keener method\n",
        "ranked_genes = keener_ranking(consensus_network)\n",
        "\n",
        "# Print the ranked genes\n",
        "print(\"Ranked Genes:\")\n",
        "for i, gene in enumerate(ranked_genes):\n",
        "    print(f\"{i+1}. {gene}\")\n"
      ],
      "metadata": {
        "id": "a55f4qiqgt5P"
      },
      "execution_count": null,
      "outputs": []
    }
  ]
}